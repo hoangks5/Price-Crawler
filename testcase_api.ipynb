{
 "cells": [
  {
   "cell_type": "code",
   "execution_count": 26,
   "metadata": {},
   "outputs": [],
   "source": [
    "import requests\n",
    "import threading"
   ]
  },
  {
   "cell_type": "code",
   "execution_count": 27,
   "metadata": {},
   "outputs": [
    {
     "data": {
      "text/plain": [
       "{'data': {'data': [{'delay': 0.20099759101867676,\n",
       "    'price': 24765.0,\n",
       "    'source': 'BINACE',\n",
       "    'timestamp': 1660222559.781247,\n",
       "    'token': 'BTC',\n",
       "    'volume24h': 6000748122.556251},\n",
       "   {'delay': 3.776247024536133,\n",
       "    'price': 24753.1,\n",
       "    'source': 'KUCOIN',\n",
       "    'timestamp': 1660222556.007,\n",
       "    'token': 'BTC',\n",
       "    'volume24h': 299344513.6177884},\n",
       "   {'delay': 119.78324699401855,\n",
       "    'price': 24716.586039492973,\n",
       "    'source': 'COINMARKERTCAP',\n",
       "    'timestamp': 1660222440.0,\n",
       "    'token': 'BTC',\n",
       "    'volume24h': 38375117215.19502},\n",
       "   {'delay': 44.78424596786499,\n",
       "    'price': 24753,\n",
       "    'source': 'COINGECKO',\n",
       "    'timestamp': 1660222515,\n",
       "    'token': 'BTC',\n",
       "    'volume24h': 36902890702.418884},\n",
       "   {'delay': 0.3505210876464844,\n",
       "    'price': 24739.0,\n",
       "    'source': 'COINBASE',\n",
       "    'timestamp': 1660222560.1952233,\n",
       "    'token': 'BTC',\n",
       "    'volume24h': 708.34872345},\n",
       "   {'delay': 0.8617634773254395,\n",
       "    'price': 24753.94,\n",
       "    'source': 'GATEIO',\n",
       "    'timestamp': 1660222559.784246,\n",
       "    'token': 'BTC',\n",
       "    'volume24h': 187012199.65414},\n",
       "   {'delay': 3.78224778175354,\n",
       "    'price': 24755.57,\n",
       "    'source': 'CHAINLINK',\n",
       "    'timestamp': 1660222556,\n",
       "    'token': 'BTC',\n",
       "    'volume24h': 9159017162.693213}],\n",
       "  'price_chainlink': 24755.38,\n",
       "  'price_coinbase': 24739.0,\n",
       "  'price_gaussian_noise': 24757.618340430487,\n",
       "  'price_max': 24765.0,\n",
       "  'price_median': 24748.028005641852,\n",
       "  'price_min': 24716.586039492973,\n",
       "  'price_volume_weighted_average': 24738.684365347177,\n",
       "  'timestamp': 1660222559.781247,\n",
       "  'token': 'BTC-USD'},\n",
       " 'error': None}"
      ]
     },
     "execution_count": 27,
     "metadata": {},
     "output_type": "execute_result"
    }
   ],
   "source": [
    "# check response time, response result\n",
    "headers = {\"Authorization\": \"ai_market\",}\n",
    "json_data = {\"data\": \"btc\"}\n",
    "requests.post('http://127.0.0.1:5000/price',headers=headers,json=json_data).json()"
   ]
  },
  {
   "cell_type": "code",
   "execution_count": 19,
   "metadata": {},
   "outputs": [
    {
     "data": {
      "text/plain": [
       "{'data': None, 'error': {'error_code': 2, 'message': 'token error'}}"
      ]
     },
     "execution_count": 19,
     "metadata": {},
     "output_type": "execute_result"
    }
   ],
   "source": [
    "# check Authorization\n",
    "headers = {\"Authorization\": \"ai_market_fail\",\n",
    "            \"Content-Type\": \"application/json\"}\n",
    "json_data = {\"data\": \"btc\"}\n",
    "requests.post('http://127.0.0.1:5000/price',headers=headers,json=json_data).json()"
   ]
  },
  {
   "cell_type": "code",
   "execution_count": 11,
   "metadata": {},
   "outputs": [
    {
     "data": {
      "text/plain": [
       "{'data': None, 'error': {'error_code': 3, 'message': 'server error'}}"
      ]
     },
     "execution_count": 11,
     "metadata": {},
     "output_type": "execute_result"
    }
   ],
   "source": [
    "# check data input fail\n",
    "headers = {\"Authorization\": \"ai_market\", \n",
    "            \"Content-Type\": \"application/json\"}\n",
    "json_data = {\"data\": \"ancccccca\"}\n",
    "requests.post('http://127.0.0.1:5000/price',headers=headers,json=json_data).json()"
   ]
  },
  {
   "cell_type": "code",
   "execution_count": null,
   "metadata": {},
   "outputs": [],
   "source": []
  }
 ],
 "metadata": {
  "kernelspec": {
   "display_name": "Python 3.10.0 64-bit",
   "language": "python",
   "name": "python3"
  },
  "language_info": {
   "codemirror_mode": {
    "name": "ipython",
    "version": 3
   },
   "file_extension": ".py",
   "mimetype": "text/x-python",
   "name": "python",
   "nbconvert_exporter": "python",
   "pygments_lexer": "ipython3",
   "version": "3.10.0"
  },
  "orig_nbformat": 4,
  "vscode": {
   "interpreter": {
    "hash": "8c2401ae0a67afd270c2b05ae3a0f82615ef33401301266777d3733620c340a8"
   }
  }
 },
 "nbformat": 4,
 "nbformat_minor": 2
}
