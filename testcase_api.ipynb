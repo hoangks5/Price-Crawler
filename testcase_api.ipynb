{
 "cells": [
  {
   "cell_type": "code",
   "execution_count": 2,
   "metadata": {},
   "outputs": [],
   "source": [
    "import requests\n",
    "import threading"
   ]
  },
  {
   "cell_type": "code",
   "execution_count": 6,
   "metadata": {},
   "outputs": [
    {
     "data": {
      "text/plain": [
       "{'data': {'data': [{'delay': 75.64117097854614,\n",
       "    'price': 24057,\n",
       "    'source': 'COINGECKO',\n",
       "    'timestamp': 1660296811,\n",
       "    'token': 'BTC',\n",
       "    'volume24h': 29016456987.64194},\n",
       "   {'delay': 2.6331727504730225,\n",
       "    'price': 24021.0,\n",
       "    'source': 'KUCOIN',\n",
       "    'timestamp': 1660296884.005,\n",
       "    'token': 'BTC',\n",
       "    'volume24h': 195453207.95899162},\n",
       "   {'delay': 0.8024687767028809,\n",
       "    'price': 24027.0,\n",
       "    'source': 'BINACE',\n",
       "    'timestamp': 1660296886.6368792,\n",
       "    'token': 'BTC',\n",
       "    'volume24h': 5087016348.862453},\n",
       "   {'delay': 106.63908100128174,\n",
       "    'price': 24039.15651620428,\n",
       "    'source': 'COINMARKERTCAP',\n",
       "    'timestamp': 1660296780.0,\n",
       "    'token': 'BTC',\n",
       "    'volume24h': 31857653108.763725},\n",
       "   {'delay': 1.373884916305542,\n",
       "    'price': 24025.68,\n",
       "    'source': 'GATEIO',\n",
       "    'timestamp': 1660296886.642454,\n",
       "    'token': 'BTC',\n",
       "    'volume24h': 123623973.33211},\n",
       "   {'delay': 6.637883901596069,\n",
       "    'price': 24021.68,\n",
       "    'source': 'CHAINLINK',\n",
       "    'timestamp': 1660296880,\n",
       "    'token': 'BTC',\n",
       "    'volume24h': 7686498763.172795},\n",
       "   {'delay': 3.074738025665283,\n",
       "    'price': 24021.11,\n",
       "    'source': 'COINBASE',\n",
       "    'timestamp': 1660296888.065836,\n",
       "    'token': 'BTC',\n",
       "    'volume24h': 372.5007721}],\n",
       "  'price_chainlink': 24022.12,\n",
       "  'price_coinbase': 24021.11,\n",
       "  'price_gaussian_noise': 24049.433494788038,\n",
       "  'price_max': 23056.112,\n",
       "  'price_median': 24030.37521660061,\n",
       "  'price_min': 23021.0,\n",
       "  'price_volume_weighted_average': 24043.433660849758,\n",
       "  'timestamp': 1660296886.636676,\n",
       "  'token': 'BTC-USD'},\n",
       " 'error': None}"
      ]
     },
     "execution_count": 6,
     "metadata": {},
     "output_type": "execute_result"
    }
   ],
   "source": [
    "# check response time, response result\n",
    "headers = {\"Authorization\": \"ai_market\",}\n",
    "json_data = {\"data\": \"btc\"}\n",
    "requests.post('http://127.0.0.1:5000/price',headers=headers,json=json_data).json()"
   ]
  },
  {
   "cell_type": "code",
   "execution_count": 19,
   "metadata": {},
   "outputs": [
    {
     "data": {
      "text/plain": [
       "{'data': None, 'error': {'error_code': 2, 'message': 'token error'}}"
      ]
     },
     "execution_count": 19,
     "metadata": {},
     "output_type": "execute_result"
    }
   ],
   "source": [
    "# check Authorization\n",
    "headers = {\"Authorization\": \"ai_market_fail\",\n",
    "            \"Content-Type\": \"application/json\"}\n",
    "json_data = {\"data\": \"btc\"}\n",
    "requests.post('http://127.0.0.1:5000/price',headers=headers,json=json_data).json()"
   ]
  },
  {
   "cell_type": "code",
   "execution_count": 11,
   "metadata": {},
   "outputs": [
    {
     "data": {
      "text/plain": [
       "{'data': None, 'error': {'error_code': 3, 'message': 'server error'}}"
      ]
     },
     "execution_count": 11,
     "metadata": {},
     "output_type": "execute_result"
    }
   ],
   "source": [
    "# check data input fail\n",
    "headers = {\"Authorization\": \"ai_market\", \n",
    "            \"Content-Type\": \"application/json\"}\n",
    "json_data = {\"data\": \"ancccccca\"}\n",
    "requests.post('http://127.0.0.1:5000/price',headers=headers,json=json_data).json()"
   ]
  },
  {
   "cell_type": "code",
   "execution_count": null,
   "metadata": {},
   "outputs": [],
   "source": []
  }
 ],
 "metadata": {
  "kernelspec": {
   "display_name": "Python 3.10.5 64-bit",
   "language": "python",
   "name": "python3"
  },
  "language_info": {
   "codemirror_mode": {
    "name": "ipython",
    "version": 3
   },
   "file_extension": ".py",
   "mimetype": "text/x-python",
   "name": "python",
   "nbconvert_exporter": "python",
   "pygments_lexer": "ipython3",
   "version": "3.10.5"
  },
  "orig_nbformat": 4,
  "vscode": {
   "interpreter": {
    "hash": "aee8b7b246df8f9039afb4144a1f6fd8d2ca17a180786b69acc140d282b71a49"
   }
  }
 },
 "nbformat": 4,
 "nbformat_minor": 2
}
