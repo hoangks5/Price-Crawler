{
 "cells": [
  {
   "cell_type": "code",
   "execution_count": 2,
   "metadata": {},
   "outputs": [],
   "source": [
    "import requests\n",
    "import threading"
   ]
  },
  {
   "cell_type": "code",
   "execution_count": 5,
   "metadata": {},
   "outputs": [
    {
     "data": {
      "text/plain": [
       "{'data': {'data': [{'delay': 1.2194368839263916,\n",
       "    'price': 24025.81,\n",
       "    'source': 'BINACE',\n",
       "    'timestamp': 1660296853.939557,\n",
       "    'token': 'BTC',\n",
       "    'volume24h': 5088070774.784795},\n",
       "   {'delay': 1.9396908283233643,\n",
       "    'price': 24026.3,\n",
       "    'source': 'KUCOIN',\n",
       "    'timestamp': 1660296852.005,\n",
       "    'token': 'BTC',\n",
       "    'volume24h': 195450634.44529438},\n",
       "   {'delay': 42.947721004486084,\n",
       "    'price': 24057,\n",
       "    'source': 'COINGECKO',\n",
       "    'timestamp': 1660296811,\n",
       "    'token': 'BTC',\n",
       "    'volume24h': 29016456987.64194},\n",
       "   {'delay': 133.94673895835876,\n",
       "    'price': 24039.770637071837,\n",
       "    'source': 'COINMARKERTCAP',\n",
       "    'timestamp': 1660296720.0,\n",
       "    'token': 'BTC',\n",
       "    'volume24h': 31855668801.93507},\n",
       "   {'delay': 2.210308790206909,\n",
       "    'price': 24024.78,\n",
       "    'source': 'GATEIO',\n",
       "    'timestamp': 1660296853.948472,\n",
       "    'token': 'BTC',\n",
       "    'volume24h': 123641005.25061},\n",
       "   {'delay': 4.944330930709839,\n",
       "    'price': 24018.73,\n",
       "    'source': 'CHAINLINK',\n",
       "    'timestamp': 1660296849,\n",
       "    'token': 'BTC',\n",
       "    'volume24h': 7682850034.6396885},\n",
       "   {'delay': 1.0411899089813232,\n",
       "    'price': 24021.11,\n",
       "    'source': 'COINBASE',\n",
       "    'timestamp': 1660296855.548544,\n",
       "    'token': 'BTC',\n",
       "    'volume24h': 372.5007721}],\n",
       "  'price_chainlink': 24018.53,\n",
       "  'price_coinbase': 24021.11,\n",
       "  'price_gaussian_noise': 24025.959699704883,\n",
       "  'price_max': 23057,\n",
       "  'price_median': 24030.500091010264,\n",
       "  'price_min': 23018.73,\n",
       "  'price_volume_weighted_average': 24043.323319506042,\n",
       "  'timestamp': 1660296853.939297,\n",
       "  'token': 'BTC-USD'},\n",
       " 'error': None}"
      ]
     },
     "execution_count": 5,
     "metadata": {},
     "output_type": "execute_result"
    }
   ],
   "source": [
    "# check response time, response result\n",
    "headers = {\"Authorization\": \"ai_market\",}\n",
    "json_data = {\"data\": \"btc\"}\n",
    "requests.post('http://127.0.0.1:5000/price',headers=headers,json=json_data).json()"
   ]
  },
  {
   "cell_type": "code",
   "execution_count": 19,
   "metadata": {},
   "outputs": [
    {
     "data": {
      "text/plain": [
       "{'data': None, 'error': {'error_code': 2, 'message': 'token error'}}"
      ]
     },
     "execution_count": 19,
     "metadata": {},
     "output_type": "execute_result"
    }
   ],
   "source": [
    "# check Authorization\n",
    "headers = {\"Authorization\": \"ai_market_fail\",\n",
    "            \"Content-Type\": \"application/json\"}\n",
    "json_data = {\"data\": \"btc\"}\n",
    "requests.post('http://127.0.0.1:5000/price',headers=headers,json=json_data).json()"
   ]
  },
  {
   "cell_type": "code",
   "execution_count": 11,
   "metadata": {},
   "outputs": [
    {
     "data": {
      "text/plain": [
       "{'data': None, 'error': {'error_code': 3, 'message': 'server error'}}"
      ]
     },
     "execution_count": 11,
     "metadata": {},
     "output_type": "execute_result"
    }
   ],
   "source": [
    "# check data input fail\n",
    "headers = {\"Authorization\": \"ai_market\", \n",
    "            \"Content-Type\": \"application/json\"}\n",
    "json_data = {\"data\": \"ancccccca\"}\n",
    "requests.post('http://127.0.0.1:5000/price',headers=headers,json=json_data).json()"
   ]
  },
  {
   "cell_type": "code",
   "execution_count": null,
   "metadata": {},
   "outputs": [],
   "source": []
  }
 ],
 "metadata": {
  "kernelspec": {
   "display_name": "Python 3.10.5 64-bit",
   "language": "python",
   "name": "python3"
  },
  "language_info": {
   "codemirror_mode": {
    "name": "ipython",
    "version": 3
   },
   "file_extension": ".py",
   "mimetype": "text/x-python",
   "name": "python",
   "nbconvert_exporter": "python",
   "pygments_lexer": "ipython3",
   "version": "3.10.5"
  },
  "orig_nbformat": 4,
  "vscode": {
   "interpreter": {
    "hash": "aee8b7b246df8f9039afb4144a1f6fd8d2ca17a180786b69acc140d282b71a49"
   }
  }
 },
 "nbformat": 4,
 "nbformat_minor": 2
}
