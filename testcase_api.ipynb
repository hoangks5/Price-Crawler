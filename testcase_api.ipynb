{
 "cells": [
  {
   "cell_type": "code",
   "execution_count": 2,
   "metadata": {},
   "outputs": [],
   "source": [
    "import requests\n",
    "import threading"
   ]
  },
  {
   "cell_type": "code",
   "execution_count": 7,
   "metadata": {},
   "outputs": [
    {
     "data": {
      "text/plain": [
       "{'data': {'data': [{'delay': 0.413654088973999,\n",
       "    'price': 24023.7,\n",
       "    'source': 'KUCOIN',\n",
       "    'timestamp': 1660296954.008,\n",
       "    'token': 'BTC',\n",
       "    'volume24h': 195418119.12365842},\n",
       "   {'delay': 24.422291040420532,\n",
       "    'price': 24048,\n",
       "    'source': 'COINGECKO',\n",
       "    'timestamp': 1660296930,\n",
       "    'token': 'BTC',\n",
       "    'volume24h': 28979641711.659626},\n",
       "   {'delay': 1.2382469177246094,\n",
       "    'price': 24027.9,\n",
       "    'source': 'BINACE',\n",
       "    'timestamp': 1660296954.420737,\n",
       "    'token': 'BTC',\n",
       "    'volume24h': 5085556824.707731},\n",
       "   {'delay': 114.42202019691467,\n",
       "    'price': 24030.54744648662,\n",
       "    'source': 'COINMARKERTCAP',\n",
       "    'timestamp': 1660296840.0,\n",
       "    'token': 'BTC',\n",
       "    'volume24h': 31858788456.914185},\n",
       "   {'delay': 1.4222431182861328,\n",
       "    'price': 24019.3,\n",
       "    'source': 'GATEIO',\n",
       "    'timestamp': 1660296954.4225159,\n",
       "    'token': 'BTC',\n",
       "    'volume24h': 123601810.67485},\n",
       "   {'delay': 1.0531091690063477,\n",
       "    'price': 24026.16,\n",
       "    'source': 'COINBASE',\n",
       "    'timestamp': 1660296955.126745,\n",
       "    'token': 'BTC',\n",
       "    'volume24h': 372.50119098},\n",
       "   {'delay': 1.4214458465576172,\n",
       "    'price': 24026.26,\n",
       "    'source': 'CHAINLINK',\n",
       "    'timestamp': 1660296953,\n",
       "    'token': 'BTC',\n",
       "    'volume24h': 7690326121.880205}],\n",
       "  'price_chainlink': 24026.26,\n",
       "  'price_coinbase': 24026.16,\n",
       "  'price_gaussian_noise': 24037.525945256133,\n",
       "  'price_max': 24048.0,\n",
       "  'price_median': 24028.838206640947,\n",
       "  'price_min': 24019.3,\n",
       "  'price_volume_weighted_average': 24036.723345826016,\n",
       "  'timestamp': 1660296954.4205382,\n",
       "  'token': 'BTC-USD'},\n",
       " 'error': None}"
      ]
     },
     "execution_count": 7,
     "metadata": {},
     "output_type": "execute_result"
    }
   ],
   "source": [
    "# check response time, response result\n",
    "headers = {\"Authorization\": \"ai_market\",}\n",
    "json_data = {\"data\": \"btc\"}\n",
    "requests.post('http://127.0.0.1:5000/price',headers=headers,json=json_data).json()"
   ]
  },
  {
   "cell_type": "code",
   "execution_count": 19,
   "metadata": {},
   "outputs": [
    {
     "data": {
      "text/plain": [
       "{'data': None, 'error': {'error_code': 2, 'message': 'token error'}}"
      ]
     },
     "execution_count": 19,
     "metadata": {},
     "output_type": "execute_result"
    }
   ],
   "source": [
    "# check Authorization\n",
    "headers = {\"Authorization\": \"ai_market_fail\",\n",
    "            \"Content-Type\": \"application/json\"}\n",
    "json_data = {\"data\": \"btc\"}\n",
    "requests.post('http://127.0.0.1:5000/price',headers=headers,json=json_data).json()"
   ]
  },
  {
   "cell_type": "code",
   "execution_count": 11,
   "metadata": {},
   "outputs": [
    {
     "data": {
      "text/plain": [
       "{'data': None, 'error': {'error_code': 3, 'message': 'server error'}}"
      ]
     },
     "execution_count": 11,
     "metadata": {},
     "output_type": "execute_result"
    }
   ],
   "source": [
    "# check data input fail\n",
    "headers = {\"Authorization\": \"ai_market\", \n",
    "            \"Content-Type\": \"application/json\"}\n",
    "json_data = {\"data\": \"ancccccca\"}\n",
    "requests.post('http://127.0.0.1:5000/price',headers=headers,json=json_data).json()"
   ]
  },
  {
   "cell_type": "code",
   "execution_count": null,
   "metadata": {},
   "outputs": [],
   "source": []
  }
 ],
 "metadata": {
  "kernelspec": {
   "display_name": "Python 3.10.5 64-bit",
   "language": "python",
   "name": "python3"
  },
  "language_info": {
   "codemirror_mode": {
    "name": "ipython",
    "version": 3
   },
   "file_extension": ".py",
   "mimetype": "text/x-python",
   "name": "python",
   "nbconvert_exporter": "python",
   "pygments_lexer": "ipython3",
   "version": "3.10.5"
  },
  "orig_nbformat": 4,
  "vscode": {
   "interpreter": {
    "hash": "aee8b7b246df8f9039afb4144a1f6fd8d2ca17a180786b69acc140d282b71a49"
   }
  }
 },
 "nbformat": 4,
 "nbformat_minor": 2
}
