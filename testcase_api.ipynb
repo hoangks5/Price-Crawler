{
 "cells": [
  {
   "cell_type": "code",
   "execution_count": 2,
   "metadata": {},
   "outputs": [],
   "source": [
    "import requests\n",
    "import threading"
   ]
  },
  {
   "cell_type": "code",
   "execution_count": 4,
   "metadata": {},
   "outputs": [
    {
     "data": {
      "text/plain": [
       "{'data': {'data': [{'delay': 4.5349719524383545,\n",
       "    'price': 24014.4,\n",
       "    'source': 'KUCOIN',\n",
       "    'timestamp': 1660296774.007,\n",
       "    'token': 'BTC',\n",
       "    'volume24h': 195429846.1154696},\n",
       "   {'delay': 29.54280400276184,\n",
       "    'price': 24062,\n",
       "    'source': 'COINGECKO',\n",
       "    'timestamp': 1660296749,\n",
       "    'token': 'BTC',\n",
       "    'volume24h': 28981302384.324062},\n",
       "   {'delay': 0.9750220775604248,\n",
       "    'price': 24013.46,\n",
       "    'source': 'BINACE',\n",
       "    'timestamp': 1660296778.540854,\n",
       "    'token': 'BTC',\n",
       "    'volume24h': 5087903287.648074},\n",
       "   {'delay': 118.54247093200684,\n",
       "    'price': 24042.359927646863,\n",
       "    'source': 'COINMARKERTCAP',\n",
       "    'timestamp': 1660296660.0,\n",
       "    'token': 'BTC',\n",
       "    'volume24h': 31840012391.902267},\n",
       "   {'delay': 1.3301029205322266,\n",
       "    'price': 24011.52,\n",
       "    'source': 'GATEIO',\n",
       "    'timestamp': 1660296778.5430331,\n",
       "    'token': 'BTC',\n",
       "    'volume24h': 123646660.08163},\n",
       "   {'delay': 2.541749954223633,\n",
       "    'price': 24014.97,\n",
       "    'source': 'CHAINLINK',\n",
       "    'timestamp': 1660296776,\n",
       "    'token': 'BTC',\n",
       "    'volume24h': 7680317002.769648},\n",
       "   {'delay': 1.3710999488830566,\n",
       "    'price': 24033.53,\n",
       "    'source': 'COINBASE',\n",
       "    'timestamp': 1660296780.154615,\n",
       "    'token': 'BTC',\n",
       "    'volume24h': 372.18471824}],\n",
       "  'price_chainlink': 24015.39,\n",
       "  'price_coinbase': 24033.53,\n",
       "  'price_gaussian_noise': 24044.505371363677,\n",
       "  'price_max': 24062,\n",
       "  'price_median': 24027.46284680669,\n",
       "  'price_min': 24011.52,\n",
       "  'price_volume_weighted_average': 24045.099987902275,\n",
       "  'timestamp': 1660296778.5406358,\n",
       "  'token': 'BTC-USD'},\n",
       " 'error': None}"
      ]
     },
     "execution_count": 4,
     "metadata": {},
     "output_type": "execute_result"
    }
   ],
   "source": [
    "# check response time, response result\n",
    "headers = {\"Authorization\": \"ai_market\",}\n",
    "json_data = {\"data\": \"btc\"}\n",
    "requests.post('http://127.0.0.1:5000/price',headers=headers,json=json_data).json()"
   ]
  },
  {
   "cell_type": "code",
   "execution_count": 19,
   "metadata": {},
   "outputs": [
    {
     "data": {
      "text/plain": [
       "{'data': None, 'error': {'error_code': 2, 'message': 'token error'}}"
      ]
     },
     "execution_count": 19,
     "metadata": {},
     "output_type": "execute_result"
    }
   ],
   "source": [
    "# check Authorization\n",
    "headers = {\"Authorization\": \"ai_market_fail\",\n",
    "            \"Content-Type\": \"application/json\"}\n",
    "json_data = {\"data\": \"btc\"}\n",
    "requests.post('http://127.0.0.1:5000/price',headers=headers,json=json_data).json()"
   ]
  },
  {
   "cell_type": "code",
   "execution_count": 11,
   "metadata": {},
   "outputs": [
    {
     "data": {
      "text/plain": [
       "{'data': None, 'error': {'error_code': 3, 'message': 'server error'}}"
      ]
     },
     "execution_count": 11,
     "metadata": {},
     "output_type": "execute_result"
    }
   ],
   "source": [
    "# check data input fail\n",
    "headers = {\"Authorization\": \"ai_market\", \n",
    "            \"Content-Type\": \"application/json\"}\n",
    "json_data = {\"data\": \"ancccccca\"}\n",
    "requests.post('http://127.0.0.1:5000/price',headers=headers,json=json_data).json()"
   ]
  },
  {
   "cell_type": "code",
   "execution_count": null,
   "metadata": {},
   "outputs": [],
   "source": []
  }
 ],
 "metadata": {
  "kernelspec": {
   "display_name": "Python 3.10.5 64-bit",
   "language": "python",
   "name": "python3"
  },
  "language_info": {
   "codemirror_mode": {
    "name": "ipython",
    "version": 3
   },
   "file_extension": ".py",
   "mimetype": "text/x-python",
   "name": "python",
   "nbconvert_exporter": "python",
   "pygments_lexer": "ipython3",
   "version": "3.10.5"
  },
  "orig_nbformat": 4,
  "vscode": {
   "interpreter": {
    "hash": "aee8b7b246df8f9039afb4144a1f6fd8d2ca17a180786b69acc140d282b71a49"
   }
  }
 },
 "nbformat": 4,
 "nbformat_minor": 2
}
