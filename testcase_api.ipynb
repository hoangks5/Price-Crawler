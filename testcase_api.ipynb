{
 "cells": [
  {
   "cell_type": "code",
   "execution_count": 1,
   "metadata": {},
   "outputs": [],
   "source": [
    "import requests\n",
    "import threading"
   ]
  },
  {
   "cell_type": "code",
   "execution_count": 2,
   "metadata": {},
   "outputs": [
    {
     "data": {
      "text/plain": [
       "{'data': {'data': [{'delay': 0.5532810688018799,\n",
       "    'price': 24779.88,\n",
       "    'source': 'BINACE',\n",
       "    'timestamp': 1660530308.040361,\n",
       "    'token': 'BTC',\n",
       "    'volume24h': 3869438040.3369727},\n",
       "   {'delay': 51.04233384132385,\n",
       "    'price': 24793,\n",
       "    'source': 'COINGECKO',\n",
       "    'timestamp': 1660530257,\n",
       "    'token': 'BTC',\n",
       "    'volume24h': 22418206407.138103},\n",
       "   {'delay': 128.04180884361267,\n",
       "    'price': 24741.465011103195,\n",
       "    'source': 'COINMARKERTCAP',\n",
       "    'timestamp': 1660530180.0,\n",
       "    'token': 'BTC',\n",
       "    'volume24h': 24017032256.11821},\n",
       "   {'delay': 0.8931798934936523,\n",
       "    'price': 24775.22,\n",
       "    'source': 'GATEIO',\n",
       "    'timestamp': 1660530308.042593,\n",
       "    'token': 'BTC',\n",
       "    'volume24h': 108188265.49584},\n",
       "   {'delay': 2.03442120552063,\n",
       "    'price': 24775.4,\n",
       "    'source': 'KUCOIN',\n",
       "    'timestamp': 1660530306.007,\n",
       "    'token': 'BTC',\n",
       "    'volume24h': 142215984.8882674},\n",
       "   {'delay': 5.04109001159668,\n",
       "    'price': 24778,\n",
       "    'source': 'CHAINLINK',\n",
       "    'timestamp': 1660530303,\n",
       "    'token': 'BTC',\n",
       "    'volume24h': 5378624359.196584},\n",
       "   {'delay': 1.2317278385162354,\n",
       "    'price': 24791.34,\n",
       "    'source': 'COINBASE',\n",
       "    'timestamp': 1660530309.581561,\n",
       "    'token': 'BTC',\n",
       "    'volume24h': 236.85922852}],\n",
       "  'price_chainlink': 24777.95,\n",
       "  'price_coinbase': 24791.34,\n",
       "  'price_gaussian_noise': 24775.790926176713,\n",
       "  'price_max': 25288.86,\n",
       "  'price_median': 24776.329287300458,\n",
       "  'price_min': 22094.128254915155,\n",
       "  'price_volume_weighted_average': 24768.44252685012,\n",
       "  'timestamp': 1660530308.040139,\n",
       "  'token': 'BTC-USD'},\n",
       " 'error': None}"
      ]
     },
     "execution_count": 2,
     "metadata": {},
     "output_type": "execute_result"
    }
   ],
   "source": [
    "# check response time, response result\n",
    "headers = {\"Authorization\": \"ai_market\",}\n",
    "json_data = {\"data\": \"btc\"} \n",
    "requests.post('http://127.0.0.1:5000/price',headers=headers,json=json_data).json()"
   ]
  },
  {
   "cell_type": "code",
   "execution_count": 19,
   "metadata": {},
   "outputs": [
    {
     "data": {
      "text/plain": [
       "{'data': None, 'error': {'error_code': 2, 'message': 'token error'}}"
      ]
     },
     "execution_count": 19,
     "metadata": {},
     "output_type": "execute_result"
    }
   ],
   "source": [
    "# check Authorization\n",
    "headers = {\"Authorization\": \"ai_market_fail\",\n",
    "            \"Content-Type\": \"application/json\"} \n",
    "json_data = {\"data\": \"btc\"}\n",
    "requests.post('http://127.0.0.1:5000/price',headers=headers,json=json_data).json()"
   ]
  },
  {
   "cell_type": "code",
   "execution_count": 11,
   "metadata": {},
   "outputs": [
    {
     "data": {
      "text/plain": [
       "{'data': None, 'error': {'error_code': 3, 'message': 'server error'}}"
      ]
     },
     "execution_count": 11,
     "metadata": {},
     "output_type": "execute_result"
    }
   ],
   "source": [
    "# check data input fail \n",
    "headers = {\"Authorization\": \"ai_market\", \n",
    "            \"Content-Type\": \"application/json\"}\n",
    "json_data = {\"data\": \"ancccccca\"}\n",
    "requests.post('http://127.0.0.1:5000/price',headers=headers,json=json_data).json()"
   ]
  },
  {
   "cell_type": "code",
   "execution_count": null,
   "metadata": {},
   "outputs": [],
   "source": []
  }
 ],
 "metadata": {
  "kernelspec": {
   "display_name": "Python 3.10.5 64-bit",
   "language": "python",
   "name": "python3"
  },
  "language_info": {
   "codemirror_mode": {
    "name": "ipython",
    "version": 3
   },
   "file_extension": ".py",
   "mimetype": "text/x-python",
   "name": "python",
   "nbconvert_exporter": "python",
   "pygments_lexer": "ipython3",
   "version": "3.10.5"
  },
  "orig_nbformat": 4,
  "vscode": {
   "interpreter": {
    "hash": "aee8b7b246df8f9039afb4144a1f6fd8d2ca17a180786b69acc140d282b71a49"
   }
  }
 },
 "nbformat": 4,
 "nbformat_minor": 2
}
