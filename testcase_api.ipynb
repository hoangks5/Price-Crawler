{
 "cells": [
  {
   "cell_type": "code",
   "execution_count": 2,
   "metadata": {},
   "outputs": [],
   "source": [
    "import requests\n",
    "import threading"
   ]
  },
  {
   "cell_type": "code",
   "execution_count": 3,
   "metadata": {},
   "outputs": [
    {
     "data": {
      "text/plain": [
       "{'data': {'data': [{'delay': 0.6866052150726318,\n",
       "    'price': 24035.5,\n",
       "    'source': 'KUCOIN',\n",
       "    'timestamp': 1660277120.008,\n",
       "    'token': 'BTC',\n",
       "    'volume24h': 233047506.34277755},\n",
       "   {'delay': 1.264967918395996,\n",
       "    'price': 24033.11,\n",
       "    'source': 'BINACE',\n",
       "    'timestamp': 1660277120.69347,\n",
       "    'token': 'BTC',\n",
       "    'volume24h': 5730634901.23359},\n",
       "   {'delay': 140.69532585144043,\n",
       "    'price': 24031.016310405786,\n",
       "    'source': 'COINMARKERTCAP',\n",
       "    'timestamp': 1660276980.0,\n",
       "    'token': 'BTC',\n",
       "    'volume24h': 35063219048.29242},\n",
       "   {'delay': 4.7014479637146,\n",
       "    'price': 24034,\n",
       "    'source': 'COINGECKO',\n",
       "    'timestamp': 1660277116,\n",
       "    'token': 'BTC',\n",
       "    'volume24h': 32244157140.725906},\n",
       "   {'delay': 1.8284761905670166,\n",
       "    'price': 24034.22,\n",
       "    'source': 'GATEIO',\n",
       "    'timestamp': 1660277120.7030559,\n",
       "    'token': 'BTC',\n",
       "    'volume24h': 147802805.5417},\n",
       "   {'delay': 8.694242000579834,\n",
       "    'price': 24032.24,\n",
       "    'source': 'CHAINLINK',\n",
       "    'timestamp': 1660277112,\n",
       "    'token': 'BTC',\n",
       "    'volume24h': 8484530734.146879},\n",
       "   {'delay': 0.7404017448425293,\n",
       "    'price': 24014.47,\n",
       "    'source': 'COINBASE',\n",
       "    'timestamp': 1660277122.010955,\n",
       "    'token': 'BTC',\n",
       "    'volume24h': 424.52990815}],\n",
       "  'price_chainlink': 24032.75,\n",
       "  'price_coinbase': 24016.76,\n",
       "  'price_gaussian_noise': 24021.13924172213,\n",
       "  'price_max': 24035.5,\n",
       "  'price_median': 24030.65090148654,\n",
       "  'price_min': 24014.47,\n",
       "  'price_volume_weighted_average': 24032.482740244363,\n",
       "  'timestamp': 1660277120.693273,\n",
       "  'token': 'BTC-USD'},\n",
       " 'error': None}"
      ]
     },
     "execution_count": 3,
     "metadata": {},
     "output_type": "execute_result"
    }
   ],
   "source": [
    "# check response time, response result\n",
    "headers = {\"Authorization\": \"ai_market\",}\n",
    "json_data = {\"data\": \"btc\"}\n",
    "requests.post('http://127.0.0.1:5000/price',headers=headers,json=json_data).json()"
   ]
  },
  {
   "cell_type": "code",
   "execution_count": 19,
   "metadata": {},
   "outputs": [
    {
     "data": {
      "text/plain": [
       "{'data': None, 'error': {'error_code': 2, 'message': 'token error'}}"
      ]
     },
     "execution_count": 19,
     "metadata": {},
     "output_type": "execute_result"
    }
   ],
   "source": [
    "# check Authorization\n",
    "headers = {\"Authorization\": \"ai_market_fail\",\n",
    "            \"Content-Type\": \"application/json\"}\n",
    "json_data = {\"data\": \"btc\"}\n",
    "requests.post('http://127.0.0.1:5000/price',headers=headers,json=json_data).json()"
   ]
  },
  {
   "cell_type": "code",
   "execution_count": 11,
   "metadata": {},
   "outputs": [
    {
     "data": {
      "text/plain": [
       "{'data': None, 'error': {'error_code': 3, 'message': 'server error'}}"
      ]
     },
     "execution_count": 11,
     "metadata": {},
     "output_type": "execute_result"
    }
   ],
   "source": [
    "# check data input fail\n",
    "headers = {\"Authorization\": \"ai_market\", \n",
    "            \"Content-Type\": \"application/json\"}\n",
    "json_data = {\"data\": \"ancccccca\"}\n",
    "requests.post('http://127.0.0.1:5000/price',headers=headers,json=json_data).json()"
   ]
  },
  {
   "cell_type": "code",
   "execution_count": null,
   "metadata": {},
   "outputs": [],
   "source": []
  }
 ],
 "metadata": {
  "kernelspec": {
   "display_name": "Python 3.10.5 64-bit",
   "language": "python",
   "name": "python3"
  },
  "language_info": {
   "codemirror_mode": {
    "name": "ipython",
    "version": 3
   },
   "file_extension": ".py",
   "mimetype": "text/x-python",
   "name": "python",
   "nbconvert_exporter": "python",
   "pygments_lexer": "ipython3",
   "version": "3.10.5"
  },
  "orig_nbformat": 4,
  "vscode": {
   "interpreter": {
    "hash": "aee8b7b246df8f9039afb4144a1f6fd8d2ca17a180786b69acc140d282b71a49"
   }
  }
 },
 "nbformat": 4,
 "nbformat_minor": 2
}
