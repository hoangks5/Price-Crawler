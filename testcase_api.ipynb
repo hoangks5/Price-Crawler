{
 "cells": [
  {
   "cell_type": "code",
   "execution_count": 8,
   "metadata": {},
   "outputs": [],
   "source": [
    "import requests\n",
    "import threading"
   ]
  },
  {
   "cell_type": "code",
   "execution_count": 9,
   "metadata": {},
   "outputs": [
    {
     "data": {
      "text/plain": [
       "{'data': {'data': [{'delay': 25.598348140716553,\n",
       "    'price': 24061,\n",
       "    'source': 'COINGECKO',\n",
       "    'timestamp': 1660297929,\n",
       "    'token': 'BTC',\n",
       "    'volume24h': 29036229891.07508},\n",
       "   {'delay': 0.5920157432556152,\n",
       "    'price': 24104.61,\n",
       "    'source': 'BINACE',\n",
       "    'timestamp': 1660297954.591936,\n",
       "    'token': 'BTC',\n",
       "    'volume24h': 5091362808.062576},\n",
       "   {'delay': 2.591973066329956,\n",
       "    'price': 24102.9,\n",
       "    'source': 'KUCOIN',\n",
       "    'timestamp': 1660297952.004,\n",
       "    'token': 'BTC',\n",
       "    'volume24h': 195874432.3810141},\n",
       "   {'delay': 0.921637773513794,\n",
       "    'price': 24100.05,\n",
       "    'source': 'GATEIO',\n",
       "    'timestamp': 1660297954.5997372,\n",
       "    'token': 'BTC',\n",
       "    'volume24h': 124386034.45969},\n",
       "   {'delay': 154.59751510620117,\n",
       "    'price': 24008.010219986372,\n",
       "    'source': 'COINMARKERTCAP',\n",
       "    'timestamp': 1660297800.0,\n",
       "    'token': 'BTC',\n",
       "    'volume24h': 31874943673.894657},\n",
       "   {'delay': 4.594691038131714,\n",
       "    'price': 24110.11,\n",
       "    'source': 'CHAINLINK',\n",
       "    'timestamp': 1660297950,\n",
       "    'token': 'BTC',\n",
       "    'volume24h': 7784231980.312103},\n",
       "   {'delay': 1.4156382083892822,\n",
       "    'price': 24129.62,\n",
       "    'source': 'COINBASE',\n",
       "    'timestamp': 1660297955.7632508,\n",
       "    'token': 'BTC',\n",
       "    'volume24h': 378.57840041}],\n",
       "  'price_chainlink': 24104.82,\n",
       "  'price_coinbase': 24129.62,\n",
       "  'price_gaussian_noise': 24137.126478076352,\n",
       "  'price_max': 24129.62,\n",
       "  'price_median': 24088.042888569482,\n",
       "  'price_min': 21607.209197987737,\n",
       "  'price_volume_weighted_average': 24046.538971662205,\n",
       "  'timestamp': 1660297954.591305,\n",
       "  'token': 'BTC-USD'},\n",
       " 'error': None}"
      ]
     },
     "execution_count": 9,
     "metadata": {},
     "output_type": "execute_result"
    }
   ],
   "source": [
    "# check response time, response result\n",
    "headers = {\"Authorization\": \"ai_market\",}\n",
    "json_data = {\"data\": \"btc\"} \n",
    "requests.post('http://127.0.0.1:5000/price',headers=headers,json=json_data).json()"
   ]
  },
  {
   "cell_type": "code",
   "execution_count": 19,
   "metadata": {},
   "outputs": [
    {
     "data": {
      "text/plain": [
       "{'data': None, 'error': {'error_code': 2, 'message': 'token error'}}"
      ]
     },
     "execution_count": 19,
     "metadata": {},
     "output_type": "execute_result"
    }
   ],
   "source": [
    "# check Authorization\n",
    "headers = {\"Authorization\": \"ai_market_fail\",\n",
    "            \"Content-Type\": \"application/json\"}\n",
    "json_data = {\"data\": \"btc\"}\n",
    "requests.post('http://127.0.0.1:5000/price',headers=headers,json=json_data).json()"
   ]
  },
  {
   "cell_type": "code",
   "execution_count": 11,
   "metadata": {},
   "outputs": [
    {
     "data": {
      "text/plain": [
       "{'data': None, 'error': {'error_code': 3, 'message': 'server error'}}"
      ]
     },
     "execution_count": 11,
     "metadata": {},
     "output_type": "execute_result"
    }
   ],
   "source": [
    "# check data input fail\n",
    "headers = {\"Authorization\": \"ai_market\", \n",
    "            \"Content-Type\": \"application/json\"}\n",
    "json_data = {\"data\": \"ancccccca\"}\n",
    "requests.post('http://127.0.0.1:5000/price',headers=headers,json=json_data).json()"
   ]
  },
  {
   "cell_type": "code",
   "execution_count": null,
   "metadata": {},
   "outputs": [],
   "source": []
  }
 ],
 "metadata": {
  "kernelspec": {
   "display_name": "Python 3.10.5 64-bit",
   "language": "python",
   "name": "python3"
  },
  "language_info": {
   "codemirror_mode": {
    "name": "ipython",
    "version": 3
   },
   "file_extension": ".py",
   "mimetype": "text/x-python",
   "name": "python",
   "nbconvert_exporter": "python",
   "pygments_lexer": "ipython3",
   "version": "3.10.5"
  },
  "orig_nbformat": 4,
  "vscode": {
   "interpreter": {
    "hash": "aee8b7b246df8f9039afb4144a1f6fd8d2ca17a180786b69acc140d282b71a49"
   }
  }
 },
 "nbformat": 4,
 "nbformat_minor": 2
}
