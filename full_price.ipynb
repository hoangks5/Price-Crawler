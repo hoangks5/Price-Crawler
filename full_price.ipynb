{
 "cells": [
  {
   "cell_type": "code",
   "execution_count": 1,
   "metadata": {},
   "outputs": [],
   "source": [
    "import requests\n",
    "import time\n",
    "from datetime import datetime"
   ]
  },
  {
   "cell_type": "code",
   "execution_count": 2,
   "metadata": {},
   "outputs": [],
   "source": [
    "TOKENS = ['BTC-USD', 'ETH-USD', 'BNB-USD', 'DOGE-USD', 'LINK-USD', 'UNI-USD', 'SOL-USD', 'MATIC-USD', 'LUNA-USD', 'DOT-USD', 'ATOM-USD']\n",
    "TOKEN_TEST = 'BTC-USD'"
   ]
  },
  {
   "cell_type": "code",
   "execution_count": 65,
   "metadata": {},
   "outputs": [],
   "source": [
    "def test(token):\n",
    "    # check response time, response result\n",
    "    headers = {\"Authorization\": \"ai_market\",}\n",
    "    json_data = {\"data\": token.split('-')[0]}\n",
    "    h = requests.post('http://127.0.0.1:5000/test',headers=headers,json=json_data).json()\n",
    "    print(h)"
   ]
  },
  {
   "cell_type": "code",
   "execution_count": 70,
   "metadata": {},
   "outputs": [
    {
     "name": "stdout",
     "output_type": "stream",
     "text": [
      "{'data': {'chainlink': 22813.21, 'coinbase': 22813.59, 'price_median': 22819.61513925806, 'price_median_volume_weighted_average': 22831.189845570716, 'timestamp': 1659603834.21797, 'token': 'BTC-USD'}, 'error': None}\n",
      "{'data': {'chainlink': 1616.69, 'coinbase': 1617.32, 'price_median': 1617.5399676803238, 'price_median_volume_weighted_average': 1618.6776068134013, 'timestamp': 1659603841.417352, 'token': 'ETH-USD'}, 'error': None}\n",
      "{'data': None, 'error': {'error_code': 3, 'message': 'server error'}}\n",
      "{'data': {'chainlink': 0.06637, 'coinbase': 0.0664, 'price_median': 0.06641601588398116, 'price_median_volume_weighted_average': 0.06650703313789952, 'timestamp': 1659603844.8989382, 'token': 'DOGE-USD'}, 'error': None}\n",
      "{'data': {'chainlink': 7.339, 'coinbase': 7.34, 'price_median': 7.342872423128312, 'price_median_volume_weighted_average': 7.351484722731283, 'timestamp': 1659603846.467979, 'token': 'LINK-USD'}, 'error': None}\n",
      "{'data': None, 'error': {'error_code': 3, 'message': 'server error'}}\n",
      "{'data': {'chainlink': 38.76, 'coinbase': 38.72, 'price_median': 38.81546834778916, 'price_median_volume_weighted_average': 38.92711433617674, 'timestamp': 1659603849.081423, 'token': 'SOL-USD'}, 'error': None}\n",
      "{'data': {'chainlink': 0.8843, 'coinbase': 0.886, 'price_median': 0.8853357176014824, 'price_median_volume_weighted_average': 0.8863929281200541, 'timestamp': 1659603850.190969, 'token': 'MATIC-USD'}, 'error': None}\n",
      "{'data': None, 'error': {'error_code': 3, 'message': 'server error'}}\n",
      "{'data': {'chainlink': 8.025, 'coinbase': 8.03, 'price_median': 8.03344698636096, 'price_median_volume_weighted_average': 8.036980953972297, 'timestamp': 1659603852.1596212, 'token': 'DOT-USD'}, 'error': None}\n",
      "{'data': {'chainlink': 10.24, 'coinbase': 10.22, 'price_median': 10.23817652052801, 'price_median_volume_weighted_average': 10.245608504857737, 'timestamp': 1659603853.1158552, 'token': 'ATOM-USD'}, 'error': None}\n"
     ]
    }
   ],
   "source": [
    "for token in TOKENS:\n",
    "    test(token)"
   ]
  },
  {
   "cell_type": "code",
   "execution_count": 64,
   "metadata": {},
   "outputs": [
    {
     "name": "stdout",
     "output_type": "stream",
     "text": [
      "{'data': {'chainlink': 22855.1, 'coinbase': 22843.4, 'price_median': 22884.130660172104, 'timestamp': 1659602770.362658, 'token': 'BTC-USD'}, 'error': None}\n"
     ]
    }
   ],
   "source": [
    "test('BTC-USD')"
   ]
  },
  {
   "cell_type": "code",
   "execution_count": 38,
   "metadata": {},
   "outputs": [
    {
     "name": "stdout",
     "output_type": "stream",
     "text": [
      "{'data': {'data': [{'delay': 0.2885777950286865, 'price': 22852.55, 'source': 'BINACE', 'timestamp': 1659601106.342585, 'token': 'BTC', 'volume24h': 3529018887.16811}, {'delay': 2.3391950130462646, 'price': 22855.1, 'source': 'KUCOIN', 'timestamp': 1659601104.006, 'token': 'BTC', 'volume24h': 210508691.91116026}, {'delay': 18.349035024642944, 'price': 22949, 'source': 'COINGECKO', 'timestamp': 1659601088, 'token': 'BTC', 'volume24h': 25083467290.199596}, {'delay': 0.769538164138794, 'price': 22860.0, 'source': 'GATEIO', 'timestamp': 1659601106.3500319, 'token': 'BTC', 'volume24h': 162869953.33716}, {'delay': 0.39826321601867676, 'price': 22874.82, 'source': 'COINBASE', 'timestamp': 1659601106.810113, 'token': 'BTC', 'volume24h': 884.9084562}, {'delay': 9.34437894821167, 'price': 22877.42, 'source': 'CHAINLINK', 'timestamp': 1659601097, 'token': 'BTC', 'volume24h': 5674876556.863817}, {'delay': 206.34783792495728, 'price': 22900.45817788527, 'source': 'COINMARKERTCAP', 'timestamp': 1659600900.0, 'token': 'BTC', 'volume24h': 26464923622.134377}], 'price_median': 22881.33545398361}, 'error': None}\n"
     ]
    }
   ],
   "source": [
    "test(TOKEN_TEST)"
   ]
  },
  {
   "cell_type": "code",
   "execution_count": 73,
   "metadata": {},
   "outputs": [],
   "source": [
    "# BINANCE\n",
    "\n",
    "# Doc: https://binance-docs.github.io/apidocs/spot/en/#24hr-ticker-price-change-statistics\n",
    "\n",
    "# Ex:\n",
    "    # API: https://api.binance.com/api/v3/ticker/24hr?symbol=BTCUSDT\n",
    "    # DEX: https://www.binance.com/en/trade/BTC_USDT?theme=dark&type=spot\n",
    "\n",
    "# Note: \n",
    "    # Volume24: USDT (symbol)\n",
    "    # Pair: USDT\n",
    "    # Timestamp : Realtime\n",
    "\n",
    "\n",
    "def get_binance_price(symbol):\n",
    "    symbol = symbol.split(\"-\")[0]\n",
    "    url = \"https://api.binance.com/api/v3/ticker/24hr?symbol=\"+symbol+\"USDT\"\n",
    "    time_start = time.time()\n",
    "    response = requests.get(url)\n",
    "    time_stop = time.time()\n",
    "    avg = {\n",
    "        'token': symbol,\n",
    "        'timestamp': time_start,\n",
    "        'price': response.json()['lastPrice'],\n",
    "        'volume24h': response.json()['quoteVolume'],\n",
    "        'delay': time_stop - time_start\n",
    "    }\n",
    "    print(avg)\n",
    "    return avg"
   ]
  },
  {
   "cell_type": "code",
   "execution_count": 74,
   "metadata": {},
   "outputs": [
    {
     "name": "stdout",
     "output_type": "stream",
     "text": [
      "{'token': 'BTC', 'timestamp': 1658822600.225048, 'price': '21056.38000000', 'volume24h': '4051479668.18821420', 'delay': 0.2011268138885498}\n",
      "{'token': 'ETH', 'timestamp': 1658822600.426454, 'price': '1407.29000000', 'volume24h': '2076992590.49041200', 'delay': 0.158095121383667}\n",
      "{'token': 'BNB', 'timestamp': 1658822600.584713, 'price': '242.80000000', 'volume24h': '110967976.24150000', 'delay': 0.19787001609802246}\n",
      "{'token': 'DOGE', 'timestamp': 1658822600.782804, 'price': '0.06130000', 'volume24h': '38413736.59887000', 'delay': 0.21825289726257324}\n",
      "{'token': 'LINK', 'timestamp': 1658822601.0012941, 'price': '6.28700000', 'volume24h': '40900387.18160000', 'delay': 0.15169191360473633}\n",
      "{'token': 'UNI', 'timestamp': 1658822601.1531389, 'price': '6.64000000', 'volume24h': '34226595.17600000', 'delay': 0.1540391445159912}\n",
      "{'token': 'SOL', 'timestamp': 1658822601.307366, 'price': '35.66000000', 'volume24h': '160632316.62130000', 'delay': 0.15284228324890137}\n",
      "{'token': 'MATIC', 'timestamp': 1658822601.460345, 'price': '0.75320000', 'volume24h': '109271397.68485000', 'delay': 0.21866202354431152}\n",
      "{'token': 'LUNA', 'timestamp': 1658822601.679189, 'price': '1.67330000', 'volume24h': '9321711.84909500', 'delay': 0.20321893692016602}\n",
      "{'token': 'DOT', 'timestamp': 1658822601.8825998, 'price': '6.66000000', 'volume24h': '50571666.36320000', 'delay': 0.1525580883026123}\n",
      "{'token': 'ATOM', 'timestamp': 1658822602.03527, 'price': '9.43500000', 'volume24h': '39587202.11927000', 'delay': 0.2105860710144043}\n"
     ]
    }
   ],
   "source": [
    "for test in TOKENS:\n",
    "    get_binance_price(test)"
   ]
  },
  {
   "cell_type": "code",
   "execution_count": 5,
   "metadata": {},
   "outputs": [],
   "source": [
    "# COINBASE\n",
    "\n",
    "# Doc: https://docs.cloud.coinbase.com/exchange/reference/exchangerestapi_getproductticker\n",
    "\n",
    "# Ex: \n",
    "    # API: https://api.exchange.coinbase.com/products/BTC-USDT/stats\n",
    "    # DEX: https://pro.coinbase.com/trade/BTC-USDT\n",
    "\n",
    "# Note: \n",
    "    # Volume24h: BTC \n",
    "    # Pair: USDT, USD\n",
    "    # Timestamp: Realtime\n",
    "\n",
    "\n",
    "def get_coinbase_price(symbol):\n",
    "    url = \"https://api.exchange.coinbase.com/products/\"+symbol+\"T/stats\"\n",
    "    headers = {\"Accept\": \"application/json\"}\n",
    "    response = requests.get(url, headers=headers)\n",
    "    time_start = time.time()\n",
    "    response = requests.request(\"GET\", url, headers=headers)\n",
    "    time_stop = time.time()\n",
    "    try:\n",
    "        avg = {\n",
    "            'token': symbol.split('-')[0],\n",
    "            'timestamp': time_start,\n",
    "            'price':response.json()['last'],\n",
    "            'volume24h':response.json()['volume'],\n",
    "            'delay': time_stop-time_start\n",
    "        }\n",
    "    except:\n",
    "        avg = False\n",
    "    print(avg)\n",
    "    return avg\n",
    "    "
   ]
  },
  {
   "cell_type": "code",
   "execution_count": 6,
   "metadata": {},
   "outputs": [
    {
     "name": "stdout",
     "output_type": "stream",
     "text": [
      "{'token': 'BTC', 'timestamp': 1659582791.8363268, 'price': '23097.91', 'volume24h': '823.98677573', 'delay': 1.251885175704956}\n",
      "{'token': 'ETH', 'timestamp': 1659582794.262984, 'price': '1649.84', 'volume24h': '10652.00693488', 'delay': 1.3335778713226318}\n",
      "False\n",
      "{'token': 'DOGE', 'timestamp': 1659582796.831019, 'price': '0.0671', 'volume24h': '1331474.9', 'delay': 0.8669130802154541}\n",
      "{'token': 'LINK', 'timestamp': 1659582798.228707, 'price': '7.48', 'volume24h': '16068', 'delay': 0.3288860321044922}\n",
      "False\n",
      "{'token': 'SOL', 'timestamp': 1659582799.94261, 'price': '39.22', 'volume24h': '241384.84', 'delay': 0.3692739009857178}\n",
      "{'token': 'MATIC', 'timestamp': 1659582800.732741, 'price': '0.902', 'volume24h': '453266.8', 'delay': 0.4155118465423584}\n",
      "False\n",
      "{'token': 'DOT', 'timestamp': 1659582803.203437, 'price': '8.17', 'volume24h': '95157.898', 'delay': 0.36602282524108887}\n",
      "{'token': 'ATOM', 'timestamp': 1659582804.0781739, 'price': '10.41', 'volume24h': '3500.002', 'delay': 0.4814462661743164}\n"
     ]
    }
   ],
   "source": [
    "for test in TOKENS:\n",
    "    get_coinbase_price(test)"
   ]
  },
  {
   "cell_type": "code",
   "execution_count": 77,
   "metadata": {},
   "outputs": [],
   "source": [
    "# GATEIO\n",
    "\n",
    "# Doc: https://api.gateio.ws/api2#ticker\n",
    "\n",
    "# Ex:\n",
    "    # API: https://data.gateapi.io/api2/1/ticker/BTC_USDT\n",
    "    # DEX: https://www.gate.io/trade/BTC_USDT\n",
    "\n",
    "# Note: \n",
    "    # Volume24h: USDT\n",
    "    # Pair: USDT, USD\n",
    "    # Timestamp: Realtime\n",
    "\n",
    "def get_gateio_price(symbol):\n",
    "    pair = symbol.replace(\"-\",\"_\")\n",
    "    url = \"https://data.gateapi.io/api2/1/ticker/\"+pair+'t'\n",
    "    time_start = time.time()\n",
    "    response = requests.get(url)\n",
    "    time_stop = time.time()\n",
    "    try:\n",
    "        avg = {\n",
    "            'token': symbol.split('-')[0],\n",
    "            'timestamp': time_start,\n",
    "            'price': response.json()['last'],\n",
    "            'volume24h': response.json()['baseVolume'],\n",
    "            'delay': time_stop - time_start\n",
    "        }\n",
    "    except:\n",
    "        avg = False\n",
    "    print(avg)\n",
    "    return avg"
   ]
  },
  {
   "cell_type": "code",
   "execution_count": 78,
   "metadata": {},
   "outputs": [
    {
     "name": "stdout",
     "output_type": "stream",
     "text": [
      "{'token': 'BTC', 'timestamp': 1658822610.813819, 'price': '21052.58', 'volume24h': '323529920.27832', 'delay': 0.44345593452453613}\n",
      "{'token': 'ETH', 'timestamp': 1658822611.2575748, 'price': '1406.98', 'volume24h': '282650150.25378', 'delay': 0.2977292537689209}\n",
      "{'token': 'BNB', 'timestamp': 1658822611.555512, 'price': '242.7596', 'volume24h': '5098852.9774133', 'delay': 0.3111131191253662}\n",
      "{'token': 'DOGE', 'timestamp': 1658822611.8668458, 'price': '0.061242', 'volume24h': '11875324.539008', 'delay': 0.38138699531555176}\n",
      "{'token': 'LINK', 'timestamp': 1658822612.24845, 'price': '6.3034', 'volume24h': '876855.68921239', 'delay': 0.5011301040649414}\n",
      "{'token': 'UNI', 'timestamp': 1658822612.749823, 'price': '6.638', 'volume24h': '3524135.5807644', 'delay': 0.5196850299835205}\n",
      "{'token': 'SOL', 'timestamp': 1658822613.269822, 'price': '35.6519', 'volume24h': '24081741.743628', 'delay': 0.34858107566833496}\n",
      "{'token': 'MATIC', 'timestamp': 1658822613.618655, 'price': '0.75368', 'volume24h': '17951738.374081', 'delay': 0.31345415115356445}\n",
      "{'token': 'LUNA', 'timestamp': 1658822613.932328, 'price': '1.6723', 'volume24h': '5671916.2064329', 'delay': 0.546720027923584}\n",
      "{'token': 'DOT', 'timestamp': 1658822614.4792588, 'price': '6.657982', 'volume24h': '5081685.3304431', 'delay': 0.3080892562866211}\n",
      "{'token': 'ATOM', 'timestamp': 1658822614.787549, 'price': '9.4228', 'volume24h': '1679741.0697291', 'delay': 0.4093329906463623}\n"
     ]
    }
   ],
   "source": [
    "for test in TOKENS:\n",
    "    get_gateio_price(test)"
   ]
  },
  {
   "cell_type": "code",
   "execution_count": 79,
   "metadata": {},
   "outputs": [],
   "source": [
    "# KUCOIN \n",
    "\n",
    "# Doc: https://docs.kucoin.com/#get-24hr-stats\n",
    "\n",
    "# Ex:\n",
    "    # API: https://api.kucoin.com/api/v1/market/stats?symbol=BTC-USDT\n",
    "    # DEX: https://www.kucoin.com/trade/BTC-USDT\n",
    "\n",
    "# Note: \n",
    "    # Volume24h: USDT(*)\n",
    "    # Pair: USDT\n",
    "    # Timestamp: (1-2s)\n",
    "def get_kucoin_price(symbol):\n",
    "    \n",
    "    time_start = time.time()\n",
    "    response = requests.get('https://api.kucoin.com/api/v1/market/stats?symbol='+symbol+'T')\n",
    "    avg = {\n",
    "        'token': symbol.split('-')[0],\n",
    "        'timestamp': response.json()['data']['time']/1000,\n",
    "        'price': response.json()['data']['last'],\n",
    "        'volume24h': response.json()['data']['volValue'],\n",
    "        'delay': time_start - response.json()['data']['time']/1000\n",
    "    }\n",
    "    print(avg)\n",
    "    return avg"
   ]
  },
  {
   "cell_type": "code",
   "execution_count": 80,
   "metadata": {},
   "outputs": [
    {
     "name": "stdout",
     "output_type": "stream",
     "text": [
      "{'token': 'BTC', 'timestamp': 1658822618.007, 'price': '21060.6', 'volume24h': '214045558.027002625', 'delay': 3.585500955581665}\n",
      "{'token': 'ETH', 'timestamp': 1658822618.006, 'price': '1407.64', 'volume24h': '239396769.8153234568', 'delay': 3.818297863006592}\n",
      "{'token': 'BNB', 'timestamp': 1658822622.01, 'price': '242.778', 'volume24h': '8030125.07772239583', 'delay': 0.0016710758209228516}\n",
      "{'token': 'DOGE', 'timestamp': 1658822622.168, 'price': '0.06134', 'volume24h': '5711338.9712560912197', 'delay': 0.014873027801513672}\n",
      "{'token': 'LINK', 'timestamp': 1658822622.126, 'price': '6.2878', 'volume24h': '6548875.17921814516', 'delay': 0.2681000232696533}\n",
      "{'token': 'UNI', 'timestamp': 1658822622.143, 'price': '6.6368', 'volume24h': '3867457.282921419676', 'delay': 0.4574720859527588}\n",
      "{'token': 'SOL', 'timestamp': 1658822622.359, 'price': '35.689', 'volume24h': '31908212.80817645028', 'delay': 0.47110509872436523}\n",
      "{'token': 'MATIC', 'timestamp': 1658822620.269, 'price': '0.7538', 'volume24h': '25684796.397796853829', 'delay': 2.7288239002227783}\n",
      "{'token': 'LUNA', 'timestamp': 1658822622.051, 'price': '1.6712', 'volume24h': '4568361.978476571331', 'delay': 1.137484073638916}\n",
      "{'token': 'DOT', 'timestamp': 1658822622.127, 'price': '6.6619', 'volume24h': '6841193.187970976729', 'delay': 1.3453357219696045}\n",
      "{'token': 'ATOM', 'timestamp': 1658822622.005, 'price': '9.4143', 'volume24h': '6928058.414850776029', 'delay': 1.641406774520874}\n"
     ]
    }
   ],
   "source": [
    "for test in TOKENS:   \n",
    "    get_kucoin_price(test)"
   ]
  },
  {
   "cell_type": "code",
   "execution_count": 81,
   "metadata": {},
   "outputs": [],
   "source": [
    "# COINMARKETCAP\n",
    "\n",
    "# Doc: https://coinmarketcap.com/api/documentation/v1/#operation/getV1CryptocurrencyQuotesLatest\n",
    "\n",
    "# Ex:\n",
    "    # API: https://pro-api.coinmarketcap.com/v1/cryptocurrency/quotes/latest\n",
    "    # DEX: https://coinmarketcap.com/currencies/bitcoin/\n",
    "\n",
    "# Note: \n",
    "    # Volume24h: USD\n",
    "    # Pair: USD\n",
    "    # Timestamp: (100-1000s)\n",
    "\n",
    "\n",
    "def get_coinmarketcap_price(symbol):\n",
    "    url = \"https://pro-api.coinmarketcap.com/v1/cryptocurrency/quotes/latest\"\n",
    "    parameters = {\n",
    "        'symbol' : symbol.split('-')[0]\n",
    "    }\n",
    "    header = {'Accepts': 'application/json', 'X-CMC_PRO_API_KEY' : '328e6159-90a7-4a16-8ecf-49983a9d76dd'}\n",
    "    time_start = time.time()\n",
    "    response = requests.get(url=url,params=parameters,headers=header)\n",
    "    avg = {\n",
    "        'token': symbol.split('-')[0],\n",
    "        'timestamp': datetime.strptime(response.json()['data'][symbol.split('-')[0]]['last_updated'],\n",
    "        '%Y-%m-%dT%H:%M:%S.%f%z').timestamp(),\n",
    "        'price': response.json()['data'][symbol.split('-')[0]]['quote']['USD']['price'],\n",
    "        'volume24h': response.json()['data'][symbol.split('-')[0]]['quote']['USD']['volume_24h'],\n",
    "        'delay': time_start - datetime.strptime(response.json()['data'][symbol.split('-')[0]]['last_updated'],\n",
    "        '%Y-%m-%dT%H:%M:%S.%f%z').timestamp()\n",
    "    }\n",
    "    \n",
    "    print(avg)"
   ]
  },
  {
   "cell_type": "code",
   "execution_count": 82,
   "metadata": {},
   "outputs": [
    {
     "name": "stdout",
     "output_type": "stream",
     "text": [
      "{'token': 'BTC', 'timestamp': 1658822520.0, 'price': 21079.994828964038, 'volume24h': 37602954991.722496, 'delay': 103.95292210578918}\n",
      "{'token': 'ETH', 'timestamp': 1658822460.0, 'price': 1412.5847029992276, 'volume24h': 19896770347.26985, 'delay': 164.35886216163635}\n",
      "{'token': 'BNB', 'timestamp': 1658822520.0, 'price': 242.93582619453585, 'volume24h': 986821503.9925077, 'delay': 104.72898602485657}\n",
      "{'token': 'DOGE', 'timestamp': 1658822520.0, 'price': 0.06155935304055346, 'volume24h': 415643509.3996478, 'delay': 105.70640993118286}\n",
      "{'token': 'LINK', 'timestamp': 1658822520.0, 'price': 6.300319019629376, 'volume24h': 386437426.1007416, 'delay': 106.08674883842468}\n",
      "{'token': 'UNI', 'timestamp': 1658822460.0, 'price': 6.650469330386089, 'volume24h': 295193450.5538107, 'delay': 166.47034907341003}\n",
      "{'token': 'SOL', 'timestamp': 1658822460.0, 'price': 35.66058228636629, 'volume24h': 1458786866.0707223, 'delay': 166.79356908798218}\n",
      "{'token': 'MATIC', 'timestamp': 1658822460.0, 'price': 0.7538864877381588, 'volume24h': 820851172.9102156, 'delay': 167.7522439956665}\n",
      "{'token': 'LUNA', 'timestamp': 1658822400.0, 'price': 1.6779476864278646, 'volume24h': 70088817.73736943, 'delay': 228.1225049495697}\n",
      "{'token': 'DOT', 'timestamp': 1658822520.0, 'price': 6.668653640465906, 'volume24h': 442959696.0821707, 'delay': 108.46069502830505}\n",
      "{'token': 'ATOM', 'timestamp': 1658822400.0, 'price': 9.437202166254147, 'volume24h': 331816504.14012265, 'delay': 228.7975959777832}\n"
     ]
    }
   ],
   "source": [
    "for test in TOKENS:\n",
    "    get_coinmarketcap_price(test)"
   ]
  },
  {
   "cell_type": "code",
   "execution_count": 83,
   "metadata": {},
   "outputs": [],
   "source": [
    "# COINGECKO\n",
    "\n",
    "# Docs: https://www.coingecko.com/en/api/documentation\n",
    "#       https://github.com/man-c/pycoingecko\n",
    "\n",
    "# Ex:\n",
    "    # API: https://api.coingecko.com/api/v3/simple/price?ids=bitcoin&vs_currencies=usd&include_24hr_vol=true&include_last_updated_at=true\n",
    "    # DEX: https://www.coingecko.com/en/coins/bitcoin\n",
    "\n",
    "# Note: \n",
    "    # Volume24h: USD\n",
    "    # Pair: USD\n",
    "    # Timestamp: (30-60s)\n",
    "\n",
    "TOKEN_IDS_COINGECKO = {'BTC': 'bitcoin',\n",
    "                        'ETH': 'ethereum',\n",
    "                        'BNB': 'binancecoin',\n",
    "                        'DOGE': 'dogecoin',\n",
    "                        'LINK': 'chainlink',\n",
    "                        'UNI': 'uniswap',\n",
    "                        'SOL': 'solana',\n",
    "                        'MATIC': 'matic-network',\n",
    "                        'LUNA': 'terra-luna-2',\n",
    "                        'DOT': 'polkadot',\n",
    "                        'ATOM': 'cosmos'}\n",
    "\n",
    "\n",
    "\n",
    "def get_coingecko_price(symbol) :\n",
    "    token = symbol.split('-')[0]\n",
    "    symbol = TOKEN_IDS_COINGECKO[symbol.split(\"-\")[0]]\n",
    "    url = \"https://api.coingecko.com/api/v3/simple/price?ids=\"+symbol+\"&vs_currencies=usd&include_24hr_vol=true&include_last_updated_at=true\"\n",
    "    time_start = time.time()\n",
    "    response = requests.get(url)\n",
    "\n",
    "    avg = {\n",
    "        'token': token,\n",
    "        'timestamp': response.json()[symbol]['last_updated_at'],\n",
    "        'price': response.json()[symbol]['usd'],\n",
    "        'volume24h': response.json()[symbol]['usd_24h_vol'],\n",
    "        'delay': time_start - response.json()[symbol]['last_updated_at']\n",
    "    }\n",
    "    print(avg)\n",
    "    return avg"
   ]
  },
  {
   "cell_type": "code",
   "execution_count": 84,
   "metadata": {},
   "outputs": [
    {
     "name": "stdout",
     "output_type": "stream",
     "text": [
      "{'token': 'BTC', 'timestamp': 1658822597, 'price': 21084, 'volume24h': 46715163143.049324, 'delay': 32.41183304786682}\n",
      "{'token': 'ETH', 'timestamp': 1658822591, 'price': 1412.17, 'volume24h': 19073227666.794476, 'delay': 38.76573705673218}\n",
      "{'token': 'BNB', 'timestamp': 1658822589, 'price': 242.99, 'volume24h': 956085096.0591663, 'delay': 41.1187059879303}\n",
      "{'token': 'DOGE', 'timestamp': 1658822600, 'price': 0.061508, 'volume24h': 298457454.6043649, 'delay': 30.498097896575928}\n",
      "{'token': 'LINK', 'timestamp': 1658822595, 'price': 6.3, 'volume24h': 430149922.19102836, 'delay': 35.936269998550415}\n",
      "{'token': 'UNI', 'timestamp': 1658822584, 'price': 6.65, 'volume24h': 263869464.41692495, 'delay': 47.27605390548706}\n",
      "{'token': 'SOL', 'timestamp': 1658822581, 'price': 35.7, 'volume24h': 1098094050.1876998, 'delay': 50.613795042037964}\n",
      "{'token': 'MATIC', 'timestamp': 1658822607, 'price': 0.754449, 'volume24h': 763093510.6698964, 'delay': 24.957226991653442}\n",
      "{'token': 'LUNA', 'timestamp': 1658822601, 'price': 1.68, 'volume24h': 37744349.82722091, 'delay': 31.372005224227905}\n",
      "{'token': 'DOT', 'timestamp': 1658822631, 'price': 6.67, 'volume24h': 382002552.8091353, 'delay': 1.7103569507598877}\n",
      "{'token': 'ATOM', 'timestamp': 1658822612, 'price': 9.46, 'volume24h': 351159280.7039545, 'delay': 21.055063009262085}\n"
     ]
    }
   ],
   "source": [
    "for test in TOKENS:\n",
    "    get_coingecko_price(test)"
   ]
  },
  {
   "cell_type": "code",
   "execution_count": 7,
   "metadata": {},
   "outputs": [],
   "source": [
    "# CHAINLINK\n",
    "\n",
    "# Doc: https://docs.chain.link/docs/single-word-response/\n",
    "\n",
    "# Ex:\n",
    "    # API: https://min-api.cryptocompare.com/data/pricemultifull?fsyms=BTC&tsyms=USDT\n",
    "    # DEX: No\n",
    "\n",
    "# Note:\n",
    "    # Volume24h: USDT\n",
    "    # Pair: USDT, USD\n",
    "    # Timestamp: (1-10s)\n",
    "\n",
    "\n",
    "def get_chainlink_price(symbol):\n",
    "    \n",
    "    url = 'https://min-api.cryptocompare.com/data/pricemultifull?fsyms='+symbol.split('-')[0]+'&tsyms='+symbol.split('-')[1]+'t'\n",
    "    time_start = time.time()\n",
    "    response = requests.get(url)\n",
    "\n",
    "    avg = {\n",
    "        'token': symbol.split('-')[0],\n",
    "        'timestamp': response.json()['RAW'][symbol.split('-')[0]]['USDT']['LASTUPDATE'],\n",
    "        'price': response.json()['RAW'][symbol.split('-')[0]]['USDT']['PRICE'],\n",
    "        'volume24h': response.json()['RAW'][symbol.split('-')[0]]['USDT']['VOLUME24HOURTO'],\n",
    "        'delay': time_start - response.json()['RAW'][symbol.split('-')[0]]['USDT']['LASTUPDATE']\n",
    "    }\n",
    "    print(avg)\n",
    "    return avg"
   ]
  },
  {
   "cell_type": "code",
   "execution_count": 8,
   "metadata": {},
   "outputs": [
    {
     "name": "stdout",
     "output_type": "stream",
     "text": [
      "{'token': 'BTC', 'timestamp': 1659582811, 'price': 23095.08, 'volume24h': 16589138296.941584, 'delay': 4.300141096115112}\n",
      "{'token': 'ETH', 'timestamp': 1659582815, 'price': 1647.77, 'volume24h': 2927573593.8492217, 'delay': 1.4712839126586914}\n",
      "{'token': 'BNB', 'timestamp': 1659582814, 'price': 300.78, 'volume24h': 350936206.93048763, 'delay': 4.054375886917114}\n",
      "{'token': 'DOGE', 'timestamp': 1659582819, 'price': 0.06694, 'volume24h': 49372055.299412765, 'delay': 0.9166409969329834}\n",
      "{'token': 'LINK', 'timestamp': 1659582812, 'price': 7.414, 'volume24h': 60444730.43438992, 'delay': 9.036146879196167}\n",
      "{'token': 'UNI', 'timestamp': 1659582817, 'price': 8.946, 'volume24h': 108515021.27581143, 'delay': 4.96021294593811}\n",
      "{'token': 'SOL', 'timestamp': 1659582818, 'price': 39.26, 'volume24h': 317952480.20317787, 'delay': 5.090534925460815}\n",
      "{'token': 'MATIC', 'timestamp': 1659582818, 'price': 0.9001, 'volume24h': 100673233.10753143, 'delay': 6.071969032287598}\n",
      "{'token': 'LUNA', 'timestamp': 1659582810, 'price': 2.112, 'volume24h': 18016458.779861793, 'delay': 15.424589157104492}\n",
      "{'token': 'DOT', 'timestamp': 1659582817, 'price': 8.17, 'volume24h': 118293120.2406622, 'delay': 9.349072933197021}\n",
      "{'token': 'ATOM', 'timestamp': 1659582810, 'price': 10.4, 'volume24h': 48009066.73615138, 'delay': 17.465911149978638}\n"
     ]
    }
   ],
   "source": [
    "for test in TOKENS: \n",
    "    get_chainlink_price(test)"
   ]
  },
  {
   "cell_type": "code",
   "execution_count": 89,
   "metadata": {},
   "outputs": [],
   "source": [
    "# UNISWAP\n",
    "\n",
    "# Doc: https://docs.uniswap.org/protocol/V2/reference/API/entities\n",
    "# Get address token uniswap https://v2.info.uniswap.org/pairs\n",
    "\n",
    "# Ex:\n",
    "    # API: https://thegraph.com/hosted-service/subgraph/uniswap/uniswap-v2\n",
    "    # DEX: https://v2.info.uniswap.org/pair/0x0d4a11d5eeaac28ec3f61d100daf4d40471f1852\n",
    "# Note:\n",
    "    # Volume: No 24H, \n",
    "PAIR_MAP = {\n",
    "    'BTC': '0x0de0fa91b6dbab8c8503aaa2d1dfa91a192cb149',\n",
    "    'ETH': '0x0d4a11d5eeaac28ec3f61d100daf4d40471f1852',\n",
    "    'DOGE': '0xfcd13ea0b906f2f87229650b8d93a51b2e839ebd',\n",
    "    'LINK': '0x9db10c305c671153662119d453c4d2c123725566',\n",
    "    'UNI': '0x5ac13261c181a9c3938bfe1b649e65d10f98566b'\n",
    "}\n",
    "def get_uniswap_price(symbol):\n",
    "    headers = {\n",
    "        'Content-Type': 'application/json',\n",
    "    }\n",
    "    try:\n",
    "        id_pair = PAIR_MAP[symbol.split('-')[0]]\n",
    "        json_data = {\n",
    "            'query': '{ pair(id: \"'+id_pair+'\")'\n",
    "            +'{ token1Price volumeToken1}}',\n",
    "        }\n",
    "        time_start = time.time()\n",
    "        response = requests.post('https://api.thegraph.com/subgraphs/name/uniswap/uniswap-v2', headers=headers, json=json_data)\n",
    "        time_stop = time.time()\n",
    "        avg = {\n",
    "            'token': symbol.split('-')[0],\n",
    "            'timestamp': time_start,\n",
    "            'price': float(response.json()['data']['pair']['token1Price']),\n",
    "            'volume24h':response.json()['data']['pair']['volumeToken1'],\n",
    "            'delay': time_stop - time_start\n",
    "        }\n",
    "        print(avg)\n",
    "    except:\n",
    "        pass\n"
   ]
  },
  {
   "cell_type": "code",
   "execution_count": 90,
   "metadata": {},
   "outputs": [
    {
     "name": "stdout",
     "output_type": "stream",
     "text": [
      "{'token': 'BTC', 'timestamp': 1658822647.980937, 'price': 21068.23121968596, 'volume24h': '11837144.351226', 'delay': 0.32615089416503906}\n",
      "{'token': 'ETH', 'timestamp': 1658822648.307295, 'price': 1409.6537618965938, 'volume24h': '39484561256.871286', 'delay': 0.3258500099182129}\n",
      "{'token': 'DOGE', 'timestamp': 1658822648.633301, 'price': 0.06203576390428494, 'volume24h': '181265036.987012', 'delay': 0.30879902839660645}\n",
      "{'token': 'LINK', 'timestamp': 1658822648.9424472, 'price': 6.98661432628486, 'volume24h': '177200.854112', 'delay': 0.33481478691101074}\n",
      "{'token': 'UNI', 'timestamp': 1658822649.277453, 'price': 6.84940230594141, 'volume24h': '19739658.314717', 'delay': 0.3694889545440674}\n"
     ]
    }
   ],
   "source": [
    "for test in TOKENS: \n",
    "    get_uniswap_price(test)"
   ]
  },
  {
   "cell_type": "code",
   "execution_count": 91,
   "metadata": {},
   "outputs": [],
   "source": [
    "# PANCAKESWAP\n",
    "# Doc: https://github.com/pancakeswap/pancake-info-api/blob/develop/v2-documentation.md\n",
    "\n",
    "# Ex:\n",
    "    # API: https://api.pancakeswap.info/api/v2/pairs\n",
    "    # DEX: https://perp.pancakeswap.finance/en/futures/BTCUSDT?theme=light\n",
    "\n",
    "# Note:\n",
    "    # Volume24h: USDT\n",
    "    # Pair: USDT\n",
    "    # Timestamp: No\n",
    "\n",
    "# Can't check pair your: https://github.com/pancakeswap/pancake-info-api/issues/10\n",
    "# You can check top 1000 pair: https://github.com/pancakeswap/pancake-info-api/blob/develop/v2-documentation.md"
   ]
  },
  {
   "cell_type": "code",
   "execution_count": 36,
   "metadata": {},
   "outputs": [],
   "source": [
    "response = requests.get('https://api.pancakeswap.info/api/v2/pairs').json()\n",
    "rs = response['data'] "
   ]
  },
  {
   "cell_type": "code",
   "execution_count": 33,
   "metadata": {},
   "outputs": [
    {
     "data": {
      "text/plain": [
       "585631.2099609375"
      ]
     },
     "execution_count": 33,
     "metadata": {},
     "output_type": "execute_result"
    }
   ],
   "source": [
    "time.time()*1000 - 1658805445437"
   ]
  },
  {
   "cell_type": "code",
   "execution_count": 69,
   "metadata": {},
   "outputs": [
    {
     "name": "stdout",
     "output_type": "stream",
     "text": [
      "WBNB\n",
      "0.00025323823921152178\n"
     ]
    }
   ],
   "source": [
    "\n",
    "tokens = 'DOGE'\n",
    "for rc in rs:\n",
    "    if rs[rc]['base_symbol'] == tokens:\n",
    "        print(rs[rc]['quote_symbol'])\n",
    "        print(rs[rc]['price'])\n",
    "    if rs[rc]['quote_symbol'] == tokens:\n",
    "        print(rs[rc]['base_symbol'])\n",
    "        print(rs[rc]['price'])"
   ]
  },
  {
   "cell_type": "code",
   "execution_count": 24,
   "metadata": {},
   "outputs": [],
   "source": [
    "import numpy as np"
   ]
  },
  {
   "cell_type": "code",
   "execution_count": 26,
   "metadata": {},
   "outputs": [],
   "source": [
    "total = [[9.87800000e+00, 5.07833235e+06],[9.87400000e+00, 2.46490738e+07], [9.8900000e+00, 2.2010797e+08]]"
   ]
  },
  {
   "cell_type": "code",
   "execution_count": 29,
   "metadata": {},
   "outputs": [
    {
     "name": "stdout",
     "output_type": "stream",
     "text": [
      "9.878\n",
      "9.874\n",
      "9.89\n"
     ]
    }
   ],
   "source": [
    "for i in total:\n",
    "    print(i[0])"
   ]
  },
  {
   "cell_type": "code",
   "execution_count": 20,
   "metadata": {},
   "outputs": [],
   "source": [
    "avg = {'token': 'ATOM', 'source': 'BINACE', 'timestamp': 1659416262.210096, 'price': 9.851, 'volume24h': 26870802.65663, 'delay': 0.23114299774169922}"
   ]
  },
  {
   "cell_type": "code",
   "execution_count": 22,
   "metadata": {},
   "outputs": [
    {
     "data": {
      "text/plain": [
       "array([9.85100000e+00, 2.68708027e+07])"
      ]
     },
     "execution_count": 22,
     "metadata": {},
     "output_type": "execute_result"
    }
   ],
   "source": [
    "np.array([avg['price'],avg['volume24h']])"
   ]
  },
  {
   "cell_type": "code",
   "execution_count": 30,
   "metadata": {},
   "outputs": [],
   "source": [
    "g = 'hello'"
   ]
  },
  {
   "cell_type": "code",
   "execution_count": 31,
   "metadata": {},
   "outputs": [
    {
     "data": {
      "text/plain": [
       "'HELLO'"
      ]
     },
     "execution_count": 31,
     "metadata": {},
     "output_type": "execute_result"
    }
   ],
   "source": [
    "g.upper()"
   ]
  },
  {
   "cell_type": "code",
   "execution_count": null,
   "metadata": {},
   "outputs": [],
   "source": []
  }
 ],
 "metadata": {
  "kernelspec": {
   "display_name": "Python 3.10.5 64-bit",
   "language": "python",
   "name": "python3"
  },
  "language_info": {
   "codemirror_mode": {
    "name": "ipython",
    "version": 3
   },
   "file_extension": ".py",
   "mimetype": "text/x-python",
   "name": "python",
   "nbconvert_exporter": "python",
   "pygments_lexer": "ipython3",
   "version": "3.10.5"
  },
  "orig_nbformat": 4,
  "vscode": {
   "interpreter": {
    "hash": "aee8b7b246df8f9039afb4144a1f6fd8d2ca17a180786b69acc140d282b71a49"
   }
  }
 },
 "nbformat": 4,
 "nbformat_minor": 2
}
